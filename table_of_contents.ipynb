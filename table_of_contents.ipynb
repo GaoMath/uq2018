{
 "cells": [
  {
   "cell_type": "markdown",
   "metadata": {},
   "source": [
    "# Table of contents"
   ]
  },
  {
   "cell_type": "markdown",
   "metadata": {},
   "source": [
    "**Course instructor: **\n",
    "Ivan Oseledets\n",
    "\n",
    "** TAs:**\n",
    "Vitaly Zankin, Gleb Ryzhakov"
   ]
  },
  {
   "cell_type": "markdown",
   "metadata": {},
   "source": [
    "| Week | Lecture notebooks | Supplementary materials | Homework | Tests |\n",
    "|:------:|:----------|:----------|:----------|-------|\n",
    "|1| [General info](lectures/lecture-0.ipynb)  <br> [Lecture 1 (Introduction to uncertainty quantification)](lectures/lecture-1.ipynb) <br> [Lecture 2 (UQ propagation using sampling methods)](lectures/lecture-2.ipynb) <br> [Lecture 3 (UQ propagation: variance reduction and Latin-Hypercube designs)](lectures/lecture-3.ipynb) |  |  | | \n",
    "|2| [Lecture 4 (Polynomial chaos methods, Gaussian processes)](lectures/lecture-4.ipynb) <br> [Lecture 5 (Dimensionality reduction, Sensitivity analysis)](./lectures/lecture-5.ipynb) |  | | |\n",
    "|3| [Lecture 6 (Inverse problems, <br> Advanced topics: Markov Chain Monte Carlo methods for UQ. High-dimensional uncertainty quantification.)](lectures/lecture-6.ipynb) |  | | | "
   ]
  }
 ],
 "metadata": {
  "anaconda-cloud": {},
  "kernelspec": {
   "display_name": "Python 3",
   "language": "python",
   "name": "python3"
  },
  "language_info": {
   "codemirror_mode": {
    "name": "ipython",
    "version": 3
   },
   "file_extension": ".py",
   "mimetype": "text/x-python",
   "name": "python",
   "nbconvert_exporter": "python",
   "pygments_lexer": "ipython3",
   "version": "3.6.4"
  },
  "nav_menu": {},
  "toc": {
   "navigate_menu": true,
   "number_sections": true,
   "sideBar": true,
   "threshold": 6,
   "toc_cell": false,
   "toc_section_display": "block",
   "toc_window_display": false
  }
 },
 "nbformat": 4,
 "nbformat_minor": 1
}
