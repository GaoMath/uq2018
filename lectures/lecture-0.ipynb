{
 "cells": [
  {
   "cell_type": "code",
   "execution_count": 2,
   "metadata": {
    "collapsed": false,
    "slideshow": {
     "slide_type": "skip"
    }
   },
   "outputs": [
    {
     "data": {
      "text/plain": [
       "{u'scroll': True,\n",
       " u'start_slideshow_at': 'selected',\n",
       " u'theme': 'sky',\n",
       " u'transition': 'zoom'}"
      ]
     },
     "execution_count": 2,
     "metadata": {},
     "output_type": "execute_result"
    }
   ],
   "source": [
    "from traitlets.config.manager import BaseJSONConfigManager\n",
    "#path = \"/home/damian/miniconda3/envs/rise_latest/etc/jupyter/nbconfig\"\n",
    "cm = BaseJSONConfigManager()\n",
    "cm.update('livereveal', {\n",
    "              'theme': 'sky',\n",
    "              'transition': 'zoom',\n",
    "              'start_slideshow_at': 'selected',\n",
    "              'scroll': True\n",
    "})"
   ]
  },
  {
   "cell_type": "markdown",
   "metadata": {
    "slideshow": {
     "slide_type": "slide"
    }
   },
   "source": [
    "# Numerical linear algebra, Skoltech,  Fall 2017,  general course info."
   ]
  },
  {
   "cell_type": "markdown",
   "metadata": {
    "slideshow": {
     "slide_type": "slide"
    }
   },
   "source": [
    "## Lecture access\n",
    "\n",
    "Lectures can be downloaded and viewed on github: https://github.com/oseledets/nla2017\n",
    "\n",
    "They can also be viewed online using nbviewer: http://nbviewer.jupyter.org/github/oseledets/nla2017/tree/master/\n",
    "\n",
    "The most comfortable way to navigate through course materials is to use ```table_of_contents.ipynb``` file in repo."
   ]
  },
  {
   "cell_type": "markdown",
   "metadata": {
    "slideshow": {
     "slide_type": "slide"
    }
   },
   "source": [
    "## Team\n",
    "Course instructor: Ivan Oseledets\n",
    "\n",
    "TAs:\n",
    "- Maxim Rakhuba\n",
    "- Marina Munkhoeva\n",
    "- Alexandr Katrutsa\n",
    "- Artem Nikitin\n",
    "- Valentin Khrulkov\n",
    "- Daniil Merkulov\n",
    "- Evgeny Ponomarev"
   ]
  },
  {
   "cell_type": "markdown",
   "metadata": {
    "slideshow": {
     "slide_type": "slide"
    }
   },
   "source": [
    "## Feedback system\n",
    "\n",
    "We encourage you to use [Piazza](https://piazza.com) platform for communication with TAs and with each other."
   ]
  },
  {
   "cell_type": "markdown",
   "metadata": {
    "slideshow": {
     "slide_type": "slide"
    }
   },
   "source": [
    "## How do we grade\n",
    "- **50%** homework. Includes 3 problem sets with coding in Python and theoretical problems.\n",
    "- **15%** written midterm test ([list](http://nbviewer.jupyter.org/github/oseledets/nla2016/blob/master/midterm.pdf) of problems from 2016)\n",
    "- **20%** final oral exam in the traditional manner of Russian oral exams.\n",
    "- **15%** term project. One project for two courses: NLA and optimization. On [Piazza](https://piazza.com) you will find more info and you can use it to find teammates."
   ]
  },
  {
   "cell_type": "markdown",
   "metadata": {
    "slideshow": {
     "slide_type": "slide"
    }
   },
   "source": [
    "## Problem sets\n",
    "\n",
    "1. Homework is distributed in **Jupyter notebooks**\n",
    "\n",
    "2. Problem sets contain both **theoretical** and **programming** tasks\n",
    "\n",
    "3. You can check programming tasks in our <font color='red'> Telegram bot </font> (demo in the end of the lecture)"
   ]
  },
  {
   "cell_type": "markdown",
   "metadata": {
    "slideshow": {
     "slide_type": "slide"
    }
   },
   "source": [
    "## Problem set rules\n",
    "\n",
    "2. Solutions must be submitted on **Canvas** before the deadline\n",
    "3. Deadlines are <font color='red'> strict </font>. After the deadline Canvas submission is **closed**\n",
    "4. However, **for programming tasks** you can use our ** Telegram bot ** to check and submit your solution after the deadline\n",
    "5. However in this case you can get only **50%** of the maximum for programming tasks (no score for theoretical tasks)\n",
    "6. Deadline for every problem set will be announced at the moment of publishing\n",
    "5. Problem sets will be checked for **plagiarism**. If noticed, the score will be divided by a number of similar works"
   ]
  },
  {
   "cell_type": "markdown",
   "metadata": {
    "slideshow": {
     "slide_type": "slide"
    }
   },
   "source": [
    "## Attendance\n",
    "\n",
    "Attendance is not strict, but **do not disappoint us**."
   ]
  },
  {
   "cell_type": "markdown",
   "metadata": {
    "slideshow": {
     "slide_type": "slide"
    }
   },
   "source": [
    "## Midterm\n",
    "\n",
    "- Midterm is planned on *week 4*\n",
    "\n",
    "- Includes both theoretical questions and problems\n",
    "\n",
    "\n",
    "## Exam\n",
    "\n",
    "- Classical oral exam with a list of questions ([questions](http://nbviewer.jupyter.org/github/oseledets/nla2016/blob/master/exam/exam_questions.pdf) from 2016)\n",
    "- If you fail exam, you get zero for the course"
   ]
  },
  {
   "cell_type": "markdown",
   "metadata": {
    "slideshow": {
     "slide_type": "slide"
    }
   },
   "source": [
    "## Grades\n",
    "\n",
    "1. A: 86 - 100 %\n",
    "2. B: 70 - 85 %\n",
    "3. C: 50 - 70 %\n",
    "4. D: 30 - 50 %\n",
    "5. E: 15 - 30 %\n",
    "6. F: 0 - 15 %"
   ]
  },
  {
   "cell_type": "markdown",
   "metadata": {
    "slideshow": {
     "slide_type": "slide"
    }
   },
   "source": [
    "## Course description\n",
    "\n",
    "- Numerical linear algebra is the basis for computational science and engineering and data science </font>\n",
    "-  Matrices and their decompositions are the key </font>\n",
    "-  The tools are different for small-scale and large-scale problems </font>"
   ]
  },
  {
   "cell_type": "markdown",
   "metadata": {
    "slideshow": {
     "slide_type": "slide"
    }
   },
   "source": [
    "## Learning outcomes\n",
    "\n",
    "-  Solve medium-scale numerical linear algebra problems \n",
    "(solve linear systems, compute eigenvalues and eigenvectors, solve linear least squares) using **matrix factorizations** </font>\n",
    "-  **Iterative methods** for sparse/structured systems </font>\n",
    "- Find which methods are the most appropriate for the particular problem </font>\n",
    "-  Find appropriate software </font>"
   ]
  },
  {
   "cell_type": "markdown",
   "metadata": {
    "slideshow": {
     "slide_type": "slide"
    }
   },
   "source": [
    "## Python 3\n",
    "- We will use Python 3 ecosystem for programming. For those who do not familiar with Python, there will be a Python tutorial practice session this week."
   ]
  },
  {
   "cell_type": "markdown",
   "metadata": {
    "slideshow": {
     "slide_type": "slide"
    }
   },
   "source": [
    "## (Approximate) Syllabus\n",
    "- **Week 1:** Floating points arithmetics, matrices, vectors, norms, ranks\n",
    "- **Week 2:** Matrix decompositions 1: SVD and its applications\n",
    "- **Week 3:** Matrix decompositions 2: Linear systems and LU, eigendecomposition\n",
    "- **Week 4:** Matrix decompositions 3: QR and Schur + midterm test\n",
    "- **Week 5:** Sparse and structured matrices, iterative methods part 1\n",
    "- **Week 6:** Iterative methods part 2, matrix functions and advanced topic\n",
    "- **Week 7:** Oral exam\n",
    "- **Week 8:** Application period"
   ]
  },
  {
   "cell_type": "markdown",
   "metadata": {
    "slideshow": {
     "slide_type": "slide"
    }
   },
   "source": [
    "## Materials\n",
    "\n",
    "**Our materials:**\n",
    "- Lecture notes are avaliable online\n",
    "- Matrix decomposition [cheat sheet](../decompositions.pdf)\n",
    "\n",
    "\n",
    "**If you have difficulties with basic linear algebra:**\n",
    "- [Cheat sheet](http://cs229.stanford.edu/section/cs229-linalg.pdf) with basics\n",
    "- Gilbert Strang book \"Introduction to Linear Algebra\"\n",
    "- Gilbert Strang has [recorded lectures](https://www.youtube.com/watch?v=ZK3O402wf1c&list=PL49CF3715CB9EF31D) on YouTube\n",
    "\n",
    "\n",
    "**Comprehensive NLA books:**\n",
    "- Gene H. Golub, Charles. F. Van Loan, \"Matrix computations\" (4th edition)\n",
    "- Lloyd N. Trefethen and David Bau III, \"Numerical Linear Algebra\"\n",
    "- Eugene. E. Tyrtyshnikov, \"Brief introduction to numerical analysis\"\n",
    "- James W. Demmel, \"Numerical Linear Algebra\"\n"
   ]
  },
  {
   "cell_type": "code",
   "execution_count": 1,
   "metadata": {
    "ExecuteTime": {
     "end_time": "2017-10-29T07:07:42.079650Z",
     "start_time": "2017-10-29T07:07:42.051649Z"
    },
    "collapsed": false
   },
   "outputs": [
    {
     "data": {
      "text/html": [
       "<link href='http://fonts.googleapis.com/css?family=Fenix' rel='stylesheet' type='text/css'>\n",
       "<link href='http://fonts.googleapis.com/css?family=Alegreya+Sans:100,300,400,500,700,800,900,100italic,300italic,400italic,500italic,700italic,800italic,900italic' rel='stylesheet' type='text/css'>\n",
       "<link href='http://fonts.googleapis.com/css?family=Source+Code+Pro:300,400' rel='stylesheet' type='text/css'>\n",
       "<style>\n",
       "    @font-face {\n",
       "        font-family: \"Computer Modern\";\n",
       "        src: url('http://mirrors.ctan.org/fonts/cm-unicode/fonts/otf/cmunss.otf');\n",
       "    }\n",
       "    div.cell{\n",
       "        /*width:80%;*/\n",
       "        /*margin-left:auto !important;\n",
       "        margin-right:auto;*/\n",
       "    }\n",
       "    h1 {\n",
       "        font-family: 'Alegreya Sans', sans-serif;\n",
       "    }\n",
       "    h2 {\n",
       "        font-family: 'Fenix', serif;\n",
       "    }\n",
       "    h3{\n",
       "\t\tfont-family: 'Fenix', serif;\n",
       "        margin-top:12px;\n",
       "        margin-bottom: 3px;\n",
       "       }\n",
       "\th4{\n",
       "\t\tfont-family: 'Fenix', serif;\n",
       "       }\n",
       "    h5 {\n",
       "        font-family: 'Alegreya Sans', sans-serif;\n",
       "    }\t   \n",
       "    div.text_cell_render{\n",
       "        font-family: 'Alegreya Sans',Computer Modern, \"Helvetica Neue\", Arial, Helvetica, Geneva, sans-serif;\n",
       "        line-height: 1.2;\n",
       "        font-size: 120%;\n",
       "        /*width:70%;*/\n",
       "        /*margin-left:auto;*/\n",
       "        margin-right:auto;\n",
       "    }\n",
       "    .CodeMirror{\n",
       "            font-family: \"Source Code Pro\";\n",
       "\t\t\tfont-size: 90%;\n",
       "    }\n",
       "/*    .prompt{\n",
       "        display: None;\n",
       "    }*/\n",
       "    .text_cell_render h1 {\n",
       "        font-weight: 200;\n",
       "        font-size: 50pt;\n",
       "\t\tline-height: 110%;\n",
       "        color:#CD2305;\n",
       "        margin-bottom: 0.5em;\n",
       "        margin-top: 0.5em;\n",
       "        display: block;\n",
       "    }\t\n",
       "    .text_cell_render h5 {\n",
       "        font-weight: 300;\n",
       "        font-size: 16pt;\n",
       "        color: #CD2305;\n",
       "        font-style: italic;\n",
       "        margin-bottom: .5em;\n",
       "        margin-top: 0.5em;\n",
       "        display: block;\n",
       "    }\n",
       "    \n",
       "    li {\n",
       "        line-height: 110%;\n",
       "    }\n",
       "    .warning{\n",
       "        color: rgb( 240, 20, 20 )\n",
       "        }  \n",
       "\n",
       "</style>\n",
       "\n",
       "<script>\n",
       "    MathJax.Hub.Config({\n",
       "                        TeX: {\n",
       "                           extensions: [\"AMSmath.js\"]\n",
       "                           },\n",
       "                tex2jax: {\n",
       "                    inlineMath: [ ['$','$'], [\"\\\\(\",\"\\\\)\"] ],\n",
       "                    displayMath: [ ['$$','$$'], [\"\\\\[\",\"\\\\]\"] ]\n",
       "                },\n",
       "                displayAlign: 'center', // Change this to 'center' to center equations.\n",
       "                \"HTML-CSS\": {\n",
       "                    styles: {'.MathJax_Display': {\"margin\": 4}}\n",
       "                }\n",
       "        });\n",
       "</script>\n"
      ],
      "text/plain": [
       "<IPython.core.display.HTML object>"
      ]
     },
     "execution_count": 1,
     "metadata": {},
     "output_type": "execute_result"
    }
   ],
   "source": [
    "from IPython.core.display import HTML\n",
    "def css_styling():\n",
    "    styles = open(\"./styles/custom.css\", \"r\").read()\n",
    "    return HTML(styles)\n",
    "css_styling()"
   ]
  }
 ],
 "metadata": {
  "anaconda-cloud": {},
  "celltoolbar": "Slideshow",
  "kernelspec": {
   "display_name": "Python [default]",
   "language": "python",
   "name": "python2"
  },
  "language_info": {
   "codemirror_mode": {
    "name": "ipython",
    "version": 2
   },
   "file_extension": ".py",
   "mimetype": "text/x-python",
   "name": "python",
   "nbconvert_exporter": "python",
   "pygments_lexer": "ipython2",
   "version": "2.7.12"
  },
  "latex_envs": {
   "LaTeX_envs_menu_present": true,
   "bibliofile": "biblio.bib",
   "cite_by": "apalike",
   "current_citInitial": 1,
   "eqLabelWithNumbers": true,
   "eqNumInitial": 1,
   "labels_anchors": false,
   "latex_user_defs": false,
   "report_style_numbering": false,
   "user_envs_cfg": false
  },
  "nav_menu": {},
  "toc": {
   "navigate_menu": true,
   "number_sections": false,
   "sideBar": true,
   "threshold": 6,
   "toc_cell": false,
   "toc_section_display": "block",
   "toc_window_display": false
  }
 },
 "nbformat": 4,
 "nbformat_minor": 1
}
